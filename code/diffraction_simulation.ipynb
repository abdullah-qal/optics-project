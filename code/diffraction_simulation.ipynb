{
 "cells": [
  {
   "cell_type": "code",
   "execution_count": null,
   "id": "1e8539cb",
   "metadata": {},
   "outputs": [],
   "source": [
    "import numpy as np\n",
    "import matplotlib.pyplot as plt\n",
    "\n",
    "f = 100      # focal length in mm\n",
    "do = 150     # object distance (from lens)\n",
    "di = 1 / (1/f - 1/do)  # image distance (from lens)\n",
    "x0, z0 = 0, -do # point source position\n",
    "z_lens = 0 \n"
   ]
  }
 ],
 "metadata": {
  "language_info": {
   "name": "python"
  }
 },
 "nbformat": 4,
 "nbformat_minor": 5
}
